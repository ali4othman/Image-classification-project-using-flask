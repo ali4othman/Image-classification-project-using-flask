<<<<<<< HEAD
{
 "cells": [
  {
   "cell_type": "code",
   "execution_count": null,
   "metadata": {},
   "outputs": [],
   "source": [
    "import tensorflow as tf\n",
    "from tensorflow import keras\n",
    "from tensorflow.keras.preprocessing.image import array_to_img,img_to_array,ImageDataGenerator,load_img\n",
    "import numpy as np\n",
    "import matplotlib.pyplot as plt\n",
    "from tensorflow.keras.layers import Flatten,Dense,Conv2D,MaxPooling2D,BatchNormalization,Dropout\n",
    "from tensorflow.keras.models import Sequential\n",
    "import os\n",
    "import pickle"
   ]
  },
  {
   "cell_type": "code",
   "execution_count": 7,
   "metadata": {},
   "outputs": [
    {
     "name": "stdout",
     "output_type": "stream",
     "text": [
      "Found 24000 images belonging to 30 classes.\n",
      "Found 6000 images belonging to 30 classes.\n"
     ]
    }
   ],
   "source": [
    "directory = 'C:/Users/workstation/Desktop/image classification project'\n",
    "datagen = ImageDataGenerator(rescale=1./255.)\n",
    "train = datagen.flow_from_directory(os.path.join(directory,'train'),\n",
    "                                    target_size=(256,256),\n",
    "                                    batch_size=32,\n",
    "                                    class_mode='categorical',\n",
    "                                    shuffle=True,\n",
    "                                    color_mode='rgb')\n",
    "\n",
    "test = datagen.flow_from_directory(os.path.join(directory,'test'),\n",
    "                                   target_size=(256,256),\n",
    "                                   batch_size=32,\n",
    "                                   class_mode='categorical',\n",
    "                                   color_mode='rgb')\n",
    "\n",
    "classes = os.listdir(os.path.join(directory,'train'))"
   ]
  },
  {
   "cell_type": "code",
   "execution_count": 8,
   "metadata": {},
   "outputs": [],
   "source": [
    "model = Sequential([\n",
    "    Conv2D(32, (3,3), input_shape=(256,256,3), activation='relu'),\n",
    "    MaxPooling2D((2,2)),\n",
    "    BatchNormalization(),\n",
    "\n",
    "    Conv2D(64, (3,3), activation='relu'),\n",
    "    MaxPooling2D((2,2)),\n",
    "    BatchNormalization(),\n",
    "\n",
    "    Conv2D(128, (3,3), activation='relu'),\n",
    "    MaxPooling2D((2,2)),\n",
    "    BatchNormalization(),\n",
    "\n",
    "    Conv2D(256, (3,3), activation='relu'),\n",
    "    MaxPooling2D((2,2)),\n",
    "    BatchNormalization(),\n",
    "\n",
    "    Flatten(),\n",
    "    Dense(512, activation='relu'),\n",
    "    Dropout(0.2),\n",
    "    Dense(len(classes), activation='softmax')\n",
    "])"
   ]
  },
  {
   "cell_type": "code",
   "execution_count": 9,
   "metadata": {},
   "outputs": [],
   "source": [
    "model.compile(optimizer='adam',loss='categorical_crossentropy',metrics=['accuracy'])"
   ]
  },
  {
   "cell_type": "code",
   "execution_count": 10,
   "metadata": {},
   "outputs": [
    {
     "name": "stdout",
     "output_type": "stream",
     "text": [
      "Epoch 1/50\n",
      "\u001b[1m750/750\u001b[0m \u001b[32m━━━━━━━━━━━━━━━━━━━━\u001b[0m\u001b[37m\u001b[0m \u001b[1m1510s\u001b[0m 2s/step - accuracy: 0.1192 - loss: 10.8929 - val_accuracy: 0.2782 - val_loss: 2.5310\n",
      "Epoch 2/50\n",
      "\u001b[1m750/750\u001b[0m \u001b[32m━━━━━━━━━━━━━━━━━━━━\u001b[0m\u001b[37m\u001b[0m \u001b[1m1687s\u001b[0m 2s/step - accuracy: 0.2707 - loss: 2.5452 - val_accuracy: 0.3512 - val_loss: 2.3023\n",
      "Epoch 3/50\n",
      "\u001b[1m750/750\u001b[0m \u001b[32m━━━━━━━━━━━━━━━━━━━━\u001b[0m\u001b[37m\u001b[0m \u001b[1m1354s\u001b[0m 2s/step - accuracy: 0.3667 - loss: 2.1554 - val_accuracy: 0.4527 - val_loss: 1.8571\n",
      "Epoch 4/50\n",
      "\u001b[1m750/750\u001b[0m \u001b[32m━━━━━━━━━━━━━━━━━━━━\u001b[0m\u001b[37m\u001b[0m \u001b[1m1244s\u001b[0m 2s/step - accuracy: 0.4558 - loss: 1.7991 - val_accuracy: 0.4822 - val_loss: 2.0535\n",
      "Epoch 5/50\n",
      "\u001b[1m750/750\u001b[0m \u001b[32m━━━━━━━━━━━━━━━━━━━━\u001b[0m\u001b[37m\u001b[0m \u001b[1m1238s\u001b[0m 2s/step - accuracy: 0.5294 - loss: 1.5476 - val_accuracy: 0.5422 - val_loss: 1.6211\n",
      "Epoch 6/50\n",
      "\u001b[1m750/750\u001b[0m \u001b[32m━━━━━━━━━━━━━━━━━━━━\u001b[0m\u001b[37m\u001b[0m \u001b[1m1238s\u001b[0m 2s/step - accuracy: 0.6018 - loss: 1.2709 - val_accuracy: 0.5433 - val_loss: 1.6861\n",
      "Epoch 7/50\n",
      "\u001b[1m750/750\u001b[0m \u001b[32m━━━━━━━━━━━━━━━━━━━━\u001b[0m\u001b[37m\u001b[0m \u001b[1m1240s\u001b[0m 2s/step - accuracy: 0.6735 - loss: 1.0153 - val_accuracy: 0.5975 - val_loss: 1.6068\n",
      "Epoch 8/50\n",
      "\u001b[1m750/750\u001b[0m \u001b[32m━━━━━━━━━━━━━━━━━━━━\u001b[0m\u001b[37m\u001b[0m \u001b[1m1239s\u001b[0m 2s/step - accuracy: 0.7278 - loss: 0.8383 - val_accuracy: 0.6477 - val_loss: 1.4121\n",
      "Epoch 9/50\n",
      "\u001b[1m750/750\u001b[0m \u001b[32m━━━━━━━━━━━━━━━━━━━━\u001b[0m\u001b[37m\u001b[0m \u001b[1m1240s\u001b[0m 2s/step - accuracy: 0.7743 - loss: 0.6830 - val_accuracy: 0.6443 - val_loss: 1.6673\n",
      "Epoch 10/50\n",
      "\u001b[1m750/750\u001b[0m \u001b[32m━━━━━━━━━━━━━━━━━━━━\u001b[0m\u001b[37m\u001b[0m \u001b[1m1240s\u001b[0m 2s/step - accuracy: 0.8062 - loss: 0.5862 - val_accuracy: 0.6657 - val_loss: 1.5060\n",
      "Epoch 11/50\n",
      "\u001b[1m750/750\u001b[0m \u001b[32m━━━━━━━━━━━━━━━━━━━━\u001b[0m\u001b[37m\u001b[0m \u001b[1m1239s\u001b[0m 2s/step - accuracy: 0.8313 - loss: 0.5054 - val_accuracy: 0.6530 - val_loss: 1.5538\n",
      "Epoch 12/50\n",
      "\u001b[1m750/750\u001b[0m \u001b[32m━━━━━━━━━━━━━━━━━━━━\u001b[0m\u001b[37m\u001b[0m \u001b[1m1240s\u001b[0m 2s/step - accuracy: 0.8423 - loss: 0.4554 - val_accuracy: 0.6598 - val_loss: 1.3902\n",
      "Epoch 13/50\n",
      "\u001b[1m750/750\u001b[0m \u001b[32m━━━━━━━━━━━━━━━━━━━━\u001b[0m\u001b[37m\u001b[0m \u001b[1m1241s\u001b[0m 2s/step - accuracy: 0.8596 - loss: 0.4123 - val_accuracy: 0.6768 - val_loss: 1.9690\n",
      "Epoch 14/50\n",
      "\u001b[1m750/750\u001b[0m \u001b[32m━━━━━━━━━━━━━━━━━━━━\u001b[0m\u001b[37m\u001b[0m \u001b[1m1241s\u001b[0m 2s/step - accuracy: 0.8673 - loss: 0.3819 - val_accuracy: 0.7027 - val_loss: 1.3359\n",
      "Epoch 15/50\n",
      "\u001b[1m750/750\u001b[0m \u001b[32m━━━━━━━━━━━━━━━━━━━━\u001b[0m\u001b[37m\u001b[0m \u001b[1m1243s\u001b[0m 2s/step - accuracy: 0.8718 - loss: 0.3570 - val_accuracy: 0.6730 - val_loss: 1.6751\n",
      "Epoch 16/50\n",
      "\u001b[1m750/750\u001b[0m \u001b[32m━━━━━━━━━━━━━━━━━━━━\u001b[0m\u001b[37m\u001b[0m \u001b[1m1241s\u001b[0m 2s/step - accuracy: 0.8925 - loss: 0.3048 - val_accuracy: 0.7068 - val_loss: 1.6327\n",
      "Epoch 17/50\n",
      "\u001b[1m750/750\u001b[0m \u001b[32m━━━━━━━━━━━━━━━━━━━━\u001b[0m\u001b[37m\u001b[0m \u001b[1m1241s\u001b[0m 2s/step - accuracy: 0.8985 - loss: 0.2949 - val_accuracy: 0.6850 - val_loss: 2.1369\n",
      "Epoch 18/50\n",
      "\u001b[1m750/750\u001b[0m \u001b[32m━━━━━━━━━━━━━━━━━━━━\u001b[0m\u001b[37m\u001b[0m \u001b[1m1242s\u001b[0m 2s/step - accuracy: 0.8987 - loss: 0.2876 - val_accuracy: 0.7228 - val_loss: 1.5279\n",
      "Epoch 19/50\n",
      "\u001b[1m750/750\u001b[0m \u001b[32m━━━━━━━━━━━━━━━━━━━━\u001b[0m\u001b[37m\u001b[0m \u001b[1m1241s\u001b[0m 2s/step - accuracy: 0.9010 - loss: 0.2760 - val_accuracy: 0.7053 - val_loss: 1.5837\n",
      "Epoch 20/50\n",
      "\u001b[1m750/750\u001b[0m \u001b[32m━━━━━━━━━━━━━━━━━━━━\u001b[0m\u001b[37m\u001b[0m \u001b[1m1276s\u001b[0m 2s/step - accuracy: 0.9067 - loss: 0.2553 - val_accuracy: 0.7182 - val_loss: 1.3992\n",
      "Epoch 21/50\n",
      "\u001b[1m750/750\u001b[0m \u001b[32m━━━━━━━━━━━━━━━━━━━━\u001b[0m\u001b[37m\u001b[0m \u001b[1m1335s\u001b[0m 2s/step - accuracy: 0.9108 - loss: 0.2426 - val_accuracy: 0.7193 - val_loss: 1.4756\n",
      "Epoch 22/50\n",
      "\u001b[1m750/750\u001b[0m \u001b[32m━━━━━━━━━━━━━━━━━━━━\u001b[0m\u001b[37m\u001b[0m \u001b[1m1332s\u001b[0m 2s/step - accuracy: 0.9144 - loss: 0.2213 - val_accuracy: 0.7020 - val_loss: 1.5808\n",
      "Epoch 23/50\n",
      "\u001b[1m750/750\u001b[0m \u001b[32m━━━━━━━━━━━━━━━━━━━━\u001b[0m\u001b[37m\u001b[0m \u001b[1m1340s\u001b[0m 2s/step - accuracy: 0.9127 - loss: 0.2361 - val_accuracy: 0.7135 - val_loss: 1.4848\n",
      "Epoch 24/50\n",
      "\u001b[1m750/750\u001b[0m \u001b[32m━━━━━━━━━━━━━━━━━━━━\u001b[0m\u001b[37m\u001b[0m \u001b[1m1281s\u001b[0m 2s/step - accuracy: 0.9180 - loss: 0.2209 - val_accuracy: 0.7245 - val_loss: 1.7346\n",
      "Epoch 25/50\n",
      "\u001b[1m750/750\u001b[0m \u001b[32m━━━━━━━━━━━━━━━━━━━━\u001b[0m\u001b[37m\u001b[0m \u001b[1m1243s\u001b[0m 2s/step - accuracy: 0.9209 - loss: 0.2097 - val_accuracy: 0.7143 - val_loss: 1.5058\n",
      "Epoch 26/50\n",
      "\u001b[1m750/750\u001b[0m \u001b[32m━━━━━━━━━━━━━━━━━━━━\u001b[0m\u001b[37m\u001b[0m \u001b[1m1255s\u001b[0m 2s/step - accuracy: 0.9233 - loss: 0.1985 - val_accuracy: 0.7220 - val_loss: 2.0198\n",
      "Epoch 27/50\n",
      "\u001b[1m750/750\u001b[0m \u001b[32m━━━━━━━━━━━━━━━━━━━━\u001b[0m\u001b[37m\u001b[0m \u001b[1m1244s\u001b[0m 2s/step - accuracy: 0.9286 - loss: 0.1777 - val_accuracy: 0.7255 - val_loss: 1.6806\n",
      "Epoch 28/50\n",
      "\u001b[1m750/750\u001b[0m \u001b[32m━━━━━━━━━━━━━━━━━━━━\u001b[0m\u001b[37m\u001b[0m \u001b[1m1278s\u001b[0m 2s/step - accuracy: 0.9319 - loss: 0.1720 - val_accuracy: 0.7025 - val_loss: 1.6053\n",
      "Epoch 29/50\n",
      "\u001b[1m750/750\u001b[0m \u001b[32m━━━━━━━━━━━━━━━━━━━━\u001b[0m\u001b[37m\u001b[0m \u001b[1m1314s\u001b[0m 2s/step - accuracy: 0.9278 - loss: 0.1804 - val_accuracy: 0.7370 - val_loss: 1.8032\n",
      "Epoch 30/50\n",
      "\u001b[1m750/750\u001b[0m \u001b[32m━━━━━━━━━━━━━━━━━━━━\u001b[0m\u001b[37m\u001b[0m \u001b[1m1331s\u001b[0m 2s/step - accuracy: 0.9394 - loss: 0.1504 - val_accuracy: 0.7183 - val_loss: 1.5012\n",
      "Epoch 31/50\n",
      "\u001b[1m750/750\u001b[0m \u001b[32m━━━━━━━━━━━━━━━━━━━━\u001b[0m\u001b[37m\u001b[0m \u001b[1m1317s\u001b[0m 2s/step - accuracy: 0.9340 - loss: 0.1571 - val_accuracy: 0.7237 - val_loss: 1.6858\n",
      "Epoch 32/50\n",
      "\u001b[1m750/750\u001b[0m \u001b[32m━━━━━━━━━━━━━━━━━━━━\u001b[0m\u001b[37m\u001b[0m \u001b[1m1266s\u001b[0m 2s/step - accuracy: 0.9331 - loss: 0.1674 - val_accuracy: 0.7265 - val_loss: 1.6943\n",
      "Epoch 33/50\n",
      "\u001b[1m750/750\u001b[0m \u001b[32m━━━━━━━━━━━━━━━━━━━━\u001b[0m\u001b[37m\u001b[0m \u001b[1m1247s\u001b[0m 2s/step - accuracy: 0.9342 - loss: 0.1532 - val_accuracy: 0.7305 - val_loss: 1.6676\n",
      "Epoch 34/50\n",
      "\u001b[1m750/750\u001b[0m \u001b[32m━━━━━━━━━━━━━━━━━━━━\u001b[0m\u001b[37m\u001b[0m \u001b[1m1245s\u001b[0m 2s/step - accuracy: 0.9373 - loss: 0.1545 - val_accuracy: 0.7282 - val_loss: 1.4950\n",
      "Epoch 35/50\n",
      "\u001b[1m750/750\u001b[0m \u001b[32m━━━━━━━━━━━━━━━━━━━━\u001b[0m\u001b[37m\u001b[0m \u001b[1m1245s\u001b[0m 2s/step - accuracy: 0.9367 - loss: 0.1502 - val_accuracy: 0.7123 - val_loss: 1.7104\n",
      "Epoch 36/50\n",
      "\u001b[1m750/750\u001b[0m \u001b[32m━━━━━━━━━━━━━━━━━━━━\u001b[0m\u001b[37m\u001b[0m \u001b[1m1245s\u001b[0m 2s/step - accuracy: 0.9368 - loss: 0.1553 - val_accuracy: 0.7338 - val_loss: 1.8964\n",
      "Epoch 37/50\n",
      "\u001b[1m750/750\u001b[0m \u001b[32m━━━━━━━━━━━━━━━━━━━━\u001b[0m\u001b[37m\u001b[0m \u001b[1m1265s\u001b[0m 2s/step - accuracy: 0.9437 - loss: 0.1427 - val_accuracy: 0.7262 - val_loss: 2.2335\n",
      "Epoch 38/50\n",
      "\u001b[1m750/750\u001b[0m \u001b[32m━━━━━━━━━━━━━━━━━━━━\u001b[0m\u001b[37m\u001b[0m \u001b[1m1327s\u001b[0m 2s/step - accuracy: 0.9398 - loss: 0.1428 - val_accuracy: 0.7302 - val_loss: 1.6958\n",
      "Epoch 39/50\n",
      "\u001b[1m750/750\u001b[0m \u001b[32m━━━━━━━━━━━━━━━━━━━━\u001b[0m\u001b[37m\u001b[0m \u001b[1m1317s\u001b[0m 2s/step - accuracy: 0.9427 - loss: 0.1304 - val_accuracy: 0.7310 - val_loss: 1.8965\n",
      "Epoch 40/50\n",
      "\u001b[1m750/750\u001b[0m \u001b[32m━━━━━━━━━━━━━━━━━━━━\u001b[0m\u001b[37m\u001b[0m \u001b[1m1286s\u001b[0m 2s/step - accuracy: 0.9427 - loss: 0.1277 - val_accuracy: 0.7280 - val_loss: 1.3247\n",
      "Epoch 41/50\n",
      "\u001b[1m750/750\u001b[0m \u001b[32m━━━━━━━━━━━━━━━━━━━━\u001b[0m\u001b[37m\u001b[0m \u001b[1m1250s\u001b[0m 2s/step - accuracy: 0.9432 - loss: 0.1246 - val_accuracy: 0.7302 - val_loss: 1.8491\n",
      "Epoch 42/50\n",
      "\u001b[1m750/750\u001b[0m \u001b[32m━━━━━━━━━━━━━━━━━━━━\u001b[0m\u001b[37m\u001b[0m \u001b[1m1284s\u001b[0m 2s/step - accuracy: 0.9408 - loss: 0.1321 - val_accuracy: 0.7287 - val_loss: 1.6603\n",
      "Epoch 43/50\n",
      "\u001b[1m750/750\u001b[0m \u001b[32m━━━━━━━━━━━━━━━━━━━━\u001b[0m\u001b[37m\u001b[0m \u001b[1m1319s\u001b[0m 2s/step - accuracy: 0.9486 - loss: 0.1175 - val_accuracy: 0.7197 - val_loss: 1.7988\n",
      "Epoch 44/50\n",
      "\u001b[1m750/750\u001b[0m \u001b[32m━━━━━━━━━━━━━━━━━━━━\u001b[0m\u001b[37m\u001b[0m \u001b[1m1343s\u001b[0m 2s/step - accuracy: 0.9428 - loss: 0.1301 - val_accuracy: 0.7065 - val_loss: 1.5856\n",
      "Epoch 45/50\n",
      "\u001b[1m750/750\u001b[0m \u001b[32m━━━━━━━━━━━━━━━━━━━━\u001b[0m\u001b[37m\u001b[0m \u001b[1m1288s\u001b[0m 2s/step - accuracy: 0.9456 - loss: 0.1238 - val_accuracy: 0.7205 - val_loss: 2.0880\n",
      "Epoch 46/50\n",
      "\u001b[1m750/750\u001b[0m \u001b[32m━━━━━━━━━━━━━━━━━━━━\u001b[0m\u001b[37m\u001b[0m \u001b[1m1257s\u001b[0m 2s/step - accuracy: 0.9458 - loss: 0.1292 - val_accuracy: 0.7158 - val_loss: 1.8470\n",
      "Epoch 47/50\n",
      "\u001b[1m750/750\u001b[0m \u001b[32m━━━━━━━━━━━━━━━━━━━━\u001b[0m\u001b[37m\u001b[0m \u001b[1m1244s\u001b[0m 2s/step - accuracy: 0.9467 - loss: 0.1148 - val_accuracy: 0.7383 - val_loss: 2.4280\n",
      "Epoch 48/50\n",
      "\u001b[1m750/750\u001b[0m \u001b[32m━━━━━━━━━━━━━━━━━━━━\u001b[0m\u001b[37m\u001b[0m \u001b[1m1258s\u001b[0m 2s/step - accuracy: 0.9431 - loss: 0.1348 - val_accuracy: 0.7258 - val_loss: 1.7598\n",
      "Epoch 49/50\n",
      "\u001b[1m750/750\u001b[0m \u001b[32m━━━━━━━━━━━━━━━━━━━━\u001b[0m\u001b[37m\u001b[0m \u001b[1m1246s\u001b[0m 2s/step - accuracy: 0.9500 - loss: 0.1078 - val_accuracy: 0.7323 - val_loss: 2.1645\n",
      "Epoch 50/50\n",
      "\u001b[1m750/750\u001b[0m \u001b[32m━━━━━━━━━━━━━━━━━━━━\u001b[0m\u001b[37m\u001b[0m \u001b[1m1246s\u001b[0m 2s/step - accuracy: 0.9451 - loss: 0.1203 - val_accuracy: 0.7190 - val_loss: 1.9414\n"
     ]
    }
   ],
   "source": [
    "history = model.fit(train,validation_data=test,verbose=1,batch_size=32,epochs=50)"
   ]
  },
  {
   "cell_type": "code",
   "execution_count": 11,
   "metadata": {},
   "outputs": [
    {
     "data": {
      "text/html": [
       "<pre style=\"white-space:pre;overflow-x:auto;line-height:normal;font-family:Menlo,'DejaVu Sans Mono',consolas,'Courier New',monospace\"><span style=\"font-weight: bold\">Model: \"sequential_1\"</span>\n",
       "</pre>\n"
      ],
      "text/plain": [
       "\u001b[1mModel: \"sequential_1\"\u001b[0m\n"
      ]
     },
     "metadata": {},
     "output_type": "display_data"
    },
    {
     "data": {
      "text/html": [
       "<pre style=\"white-space:pre;overflow-x:auto;line-height:normal;font-family:Menlo,'DejaVu Sans Mono',consolas,'Courier New',monospace\">┏━━━━━━━━━━━━━━━━━━━━━━━━━━━━━━━━━┳━━━━━━━━━━━━━━━━━━━━━━━━┳━━━━━━━━━━━━━━━┓\n",
       "┃<span style=\"font-weight: bold\"> Layer (type)                    </span>┃<span style=\"font-weight: bold\"> Output Shape           </span>┃<span style=\"font-weight: bold\">       Param # </span>┃\n",
       "┡━━━━━━━━━━━━━━━━━━━━━━━━━━━━━━━━━╇━━━━━━━━━━━━━━━━━━━━━━━━╇━━━━━━━━━━━━━━━┩\n",
       "│ conv2d_4 (<span style=\"color: #0087ff; text-decoration-color: #0087ff\">Conv2D</span>)               │ (<span style=\"color: #00d7ff; text-decoration-color: #00d7ff\">None</span>, <span style=\"color: #00af00; text-decoration-color: #00af00\">254</span>, <span style=\"color: #00af00; text-decoration-color: #00af00\">254</span>, <span style=\"color: #00af00; text-decoration-color: #00af00\">32</span>)   │           <span style=\"color: #00af00; text-decoration-color: #00af00\">896</span> │\n",
       "├─────────────────────────────────┼────────────────────────┼───────────────┤\n",
       "│ max_pooling2d_4 (<span style=\"color: #0087ff; text-decoration-color: #0087ff\">MaxPooling2D</span>)  │ (<span style=\"color: #00d7ff; text-decoration-color: #00d7ff\">None</span>, <span style=\"color: #00af00; text-decoration-color: #00af00\">127</span>, <span style=\"color: #00af00; text-decoration-color: #00af00\">127</span>, <span style=\"color: #00af00; text-decoration-color: #00af00\">32</span>)   │             <span style=\"color: #00af00; text-decoration-color: #00af00\">0</span> │\n",
       "├─────────────────────────────────┼────────────────────────┼───────────────┤\n",
       "│ batch_normalization_4           │ (<span style=\"color: #00d7ff; text-decoration-color: #00d7ff\">None</span>, <span style=\"color: #00af00; text-decoration-color: #00af00\">127</span>, <span style=\"color: #00af00; text-decoration-color: #00af00\">127</span>, <span style=\"color: #00af00; text-decoration-color: #00af00\">32</span>)   │           <span style=\"color: #00af00; text-decoration-color: #00af00\">128</span> │\n",
       "│ (<span style=\"color: #0087ff; text-decoration-color: #0087ff\">BatchNormalization</span>)            │                        │               │\n",
       "├─────────────────────────────────┼────────────────────────┼───────────────┤\n",
       "│ conv2d_5 (<span style=\"color: #0087ff; text-decoration-color: #0087ff\">Conv2D</span>)               │ (<span style=\"color: #00d7ff; text-decoration-color: #00d7ff\">None</span>, <span style=\"color: #00af00; text-decoration-color: #00af00\">125</span>, <span style=\"color: #00af00; text-decoration-color: #00af00\">125</span>, <span style=\"color: #00af00; text-decoration-color: #00af00\">64</span>)   │        <span style=\"color: #00af00; text-decoration-color: #00af00\">18,496</span> │\n",
       "├─────────────────────────────────┼────────────────────────┼───────────────┤\n",
       "│ max_pooling2d_5 (<span style=\"color: #0087ff; text-decoration-color: #0087ff\">MaxPooling2D</span>)  │ (<span style=\"color: #00d7ff; text-decoration-color: #00d7ff\">None</span>, <span style=\"color: #00af00; text-decoration-color: #00af00\">62</span>, <span style=\"color: #00af00; text-decoration-color: #00af00\">62</span>, <span style=\"color: #00af00; text-decoration-color: #00af00\">64</span>)     │             <span style=\"color: #00af00; text-decoration-color: #00af00\">0</span> │\n",
       "├─────────────────────────────────┼────────────────────────┼───────────────┤\n",
       "│ batch_normalization_5           │ (<span style=\"color: #00d7ff; text-decoration-color: #00d7ff\">None</span>, <span style=\"color: #00af00; text-decoration-color: #00af00\">62</span>, <span style=\"color: #00af00; text-decoration-color: #00af00\">62</span>, <span style=\"color: #00af00; text-decoration-color: #00af00\">64</span>)     │           <span style=\"color: #00af00; text-decoration-color: #00af00\">256</span> │\n",
       "│ (<span style=\"color: #0087ff; text-decoration-color: #0087ff\">BatchNormalization</span>)            │                        │               │\n",
       "├─────────────────────────────────┼────────────────────────┼───────────────┤\n",
       "│ conv2d_6 (<span style=\"color: #0087ff; text-decoration-color: #0087ff\">Conv2D</span>)               │ (<span style=\"color: #00d7ff; text-decoration-color: #00d7ff\">None</span>, <span style=\"color: #00af00; text-decoration-color: #00af00\">60</span>, <span style=\"color: #00af00; text-decoration-color: #00af00\">60</span>, <span style=\"color: #00af00; text-decoration-color: #00af00\">128</span>)    │        <span style=\"color: #00af00; text-decoration-color: #00af00\">73,856</span> │\n",
       "├─────────────────────────────────┼────────────────────────┼───────────────┤\n",
       "│ max_pooling2d_6 (<span style=\"color: #0087ff; text-decoration-color: #0087ff\">MaxPooling2D</span>)  │ (<span style=\"color: #00d7ff; text-decoration-color: #00d7ff\">None</span>, <span style=\"color: #00af00; text-decoration-color: #00af00\">30</span>, <span style=\"color: #00af00; text-decoration-color: #00af00\">30</span>, <span style=\"color: #00af00; text-decoration-color: #00af00\">128</span>)    │             <span style=\"color: #00af00; text-decoration-color: #00af00\">0</span> │\n",
       "├─────────────────────────────────┼────────────────────────┼───────────────┤\n",
       "│ batch_normalization_6           │ (<span style=\"color: #00d7ff; text-decoration-color: #00d7ff\">None</span>, <span style=\"color: #00af00; text-decoration-color: #00af00\">30</span>, <span style=\"color: #00af00; text-decoration-color: #00af00\">30</span>, <span style=\"color: #00af00; text-decoration-color: #00af00\">128</span>)    │           <span style=\"color: #00af00; text-decoration-color: #00af00\">512</span> │\n",
       "│ (<span style=\"color: #0087ff; text-decoration-color: #0087ff\">BatchNormalization</span>)            │                        │               │\n",
       "├─────────────────────────────────┼────────────────────────┼───────────────┤\n",
       "│ conv2d_7 (<span style=\"color: #0087ff; text-decoration-color: #0087ff\">Conv2D</span>)               │ (<span style=\"color: #00d7ff; text-decoration-color: #00d7ff\">None</span>, <span style=\"color: #00af00; text-decoration-color: #00af00\">28</span>, <span style=\"color: #00af00; text-decoration-color: #00af00\">28</span>, <span style=\"color: #00af00; text-decoration-color: #00af00\">256</span>)    │       <span style=\"color: #00af00; text-decoration-color: #00af00\">295,168</span> │\n",
       "├─────────────────────────────────┼────────────────────────┼───────────────┤\n",
       "│ max_pooling2d_7 (<span style=\"color: #0087ff; text-decoration-color: #0087ff\">MaxPooling2D</span>)  │ (<span style=\"color: #00d7ff; text-decoration-color: #00d7ff\">None</span>, <span style=\"color: #00af00; text-decoration-color: #00af00\">14</span>, <span style=\"color: #00af00; text-decoration-color: #00af00\">14</span>, <span style=\"color: #00af00; text-decoration-color: #00af00\">256</span>)    │             <span style=\"color: #00af00; text-decoration-color: #00af00\">0</span> │\n",
       "├─────────────────────────────────┼────────────────────────┼───────────────┤\n",
       "│ batch_normalization_7           │ (<span style=\"color: #00d7ff; text-decoration-color: #00d7ff\">None</span>, <span style=\"color: #00af00; text-decoration-color: #00af00\">14</span>, <span style=\"color: #00af00; text-decoration-color: #00af00\">14</span>, <span style=\"color: #00af00; text-decoration-color: #00af00\">256</span>)    │         <span style=\"color: #00af00; text-decoration-color: #00af00\">1,024</span> │\n",
       "│ (<span style=\"color: #0087ff; text-decoration-color: #0087ff\">BatchNormalization</span>)            │                        │               │\n",
       "├─────────────────────────────────┼────────────────────────┼───────────────┤\n",
       "│ flatten_1 (<span style=\"color: #0087ff; text-decoration-color: #0087ff\">Flatten</span>)             │ (<span style=\"color: #00d7ff; text-decoration-color: #00d7ff\">None</span>, <span style=\"color: #00af00; text-decoration-color: #00af00\">50176</span>)          │             <span style=\"color: #00af00; text-decoration-color: #00af00\">0</span> │\n",
       "├─────────────────────────────────┼────────────────────────┼───────────────┤\n",
       "│ dense_2 (<span style=\"color: #0087ff; text-decoration-color: #0087ff\">Dense</span>)                 │ (<span style=\"color: #00d7ff; text-decoration-color: #00d7ff\">None</span>, <span style=\"color: #00af00; text-decoration-color: #00af00\">512</span>)            │    <span style=\"color: #00af00; text-decoration-color: #00af00\">25,690,624</span> │\n",
       "├─────────────────────────────────┼────────────────────────┼───────────────┤\n",
       "│ dropout_1 (<span style=\"color: #0087ff; text-decoration-color: #0087ff\">Dropout</span>)             │ (<span style=\"color: #00d7ff; text-decoration-color: #00d7ff\">None</span>, <span style=\"color: #00af00; text-decoration-color: #00af00\">512</span>)            │             <span style=\"color: #00af00; text-decoration-color: #00af00\">0</span> │\n",
       "├─────────────────────────────────┼────────────────────────┼───────────────┤\n",
       "│ dense_3 (<span style=\"color: #0087ff; text-decoration-color: #0087ff\">Dense</span>)                 │ (<span style=\"color: #00d7ff; text-decoration-color: #00d7ff\">None</span>, <span style=\"color: #00af00; text-decoration-color: #00af00\">30</span>)             │        <span style=\"color: #00af00; text-decoration-color: #00af00\">15,390</span> │\n",
       "└─────────────────────────────────┴────────────────────────┴───────────────┘\n",
       "</pre>\n"
      ],
      "text/plain": [
       "┏━━━━━━━━━━━━━━━━━━━━━━━━━━━━━━━━━┳━━━━━━━━━━━━━━━━━━━━━━━━┳━━━━━━━━━━━━━━━┓\n",
       "┃\u001b[1m \u001b[0m\u001b[1mLayer (type)                   \u001b[0m\u001b[1m \u001b[0m┃\u001b[1m \u001b[0m\u001b[1mOutput Shape          \u001b[0m\u001b[1m \u001b[0m┃\u001b[1m \u001b[0m\u001b[1m      Param #\u001b[0m\u001b[1m \u001b[0m┃\n",
       "┡━━━━━━━━━━━━━━━━━━━━━━━━━━━━━━━━━╇━━━━━━━━━━━━━━━━━━━━━━━━╇━━━━━━━━━━━━━━━┩\n",
       "│ conv2d_4 (\u001b[38;5;33mConv2D\u001b[0m)               │ (\u001b[38;5;45mNone\u001b[0m, \u001b[38;5;34m254\u001b[0m, \u001b[38;5;34m254\u001b[0m, \u001b[38;5;34m32\u001b[0m)   │           \u001b[38;5;34m896\u001b[0m │\n",
       "├─────────────────────────────────┼────────────────────────┼───────────────┤\n",
       "│ max_pooling2d_4 (\u001b[38;5;33mMaxPooling2D\u001b[0m)  │ (\u001b[38;5;45mNone\u001b[0m, \u001b[38;5;34m127\u001b[0m, \u001b[38;5;34m127\u001b[0m, \u001b[38;5;34m32\u001b[0m)   │             \u001b[38;5;34m0\u001b[0m │\n",
       "├─────────────────────────────────┼────────────────────────┼───────────────┤\n",
       "│ batch_normalization_4           │ (\u001b[38;5;45mNone\u001b[0m, \u001b[38;5;34m127\u001b[0m, \u001b[38;5;34m127\u001b[0m, \u001b[38;5;34m32\u001b[0m)   │           \u001b[38;5;34m128\u001b[0m │\n",
       "│ (\u001b[38;5;33mBatchNormalization\u001b[0m)            │                        │               │\n",
       "├─────────────────────────────────┼────────────────────────┼───────────────┤\n",
       "│ conv2d_5 (\u001b[38;5;33mConv2D\u001b[0m)               │ (\u001b[38;5;45mNone\u001b[0m, \u001b[38;5;34m125\u001b[0m, \u001b[38;5;34m125\u001b[0m, \u001b[38;5;34m64\u001b[0m)   │        \u001b[38;5;34m18,496\u001b[0m │\n",
       "├─────────────────────────────────┼────────────────────────┼───────────────┤\n",
       "│ max_pooling2d_5 (\u001b[38;5;33mMaxPooling2D\u001b[0m)  │ (\u001b[38;5;45mNone\u001b[0m, \u001b[38;5;34m62\u001b[0m, \u001b[38;5;34m62\u001b[0m, \u001b[38;5;34m64\u001b[0m)     │             \u001b[38;5;34m0\u001b[0m │\n",
       "├─────────────────────────────────┼────────────────────────┼───────────────┤\n",
       "│ batch_normalization_5           │ (\u001b[38;5;45mNone\u001b[0m, \u001b[38;5;34m62\u001b[0m, \u001b[38;5;34m62\u001b[0m, \u001b[38;5;34m64\u001b[0m)     │           \u001b[38;5;34m256\u001b[0m │\n",
       "│ (\u001b[38;5;33mBatchNormalization\u001b[0m)            │                        │               │\n",
       "├─────────────────────────────────┼────────────────────────┼───────────────┤\n",
       "│ conv2d_6 (\u001b[38;5;33mConv2D\u001b[0m)               │ (\u001b[38;5;45mNone\u001b[0m, \u001b[38;5;34m60\u001b[0m, \u001b[38;5;34m60\u001b[0m, \u001b[38;5;34m128\u001b[0m)    │        \u001b[38;5;34m73,856\u001b[0m │\n",
       "├─────────────────────────────────┼────────────────────────┼───────────────┤\n",
       "│ max_pooling2d_6 (\u001b[38;5;33mMaxPooling2D\u001b[0m)  │ (\u001b[38;5;45mNone\u001b[0m, \u001b[38;5;34m30\u001b[0m, \u001b[38;5;34m30\u001b[0m, \u001b[38;5;34m128\u001b[0m)    │             \u001b[38;5;34m0\u001b[0m │\n",
       "├─────────────────────────────────┼────────────────────────┼───────────────┤\n",
       "│ batch_normalization_6           │ (\u001b[38;5;45mNone\u001b[0m, \u001b[38;5;34m30\u001b[0m, \u001b[38;5;34m30\u001b[0m, \u001b[38;5;34m128\u001b[0m)    │           \u001b[38;5;34m512\u001b[0m │\n",
       "│ (\u001b[38;5;33mBatchNormalization\u001b[0m)            │                        │               │\n",
       "├─────────────────────────────────┼────────────────────────┼───────────────┤\n",
       "│ conv2d_7 (\u001b[38;5;33mConv2D\u001b[0m)               │ (\u001b[38;5;45mNone\u001b[0m, \u001b[38;5;34m28\u001b[0m, \u001b[38;5;34m28\u001b[0m, \u001b[38;5;34m256\u001b[0m)    │       \u001b[38;5;34m295,168\u001b[0m │\n",
       "├─────────────────────────────────┼────────────────────────┼───────────────┤\n",
       "│ max_pooling2d_7 (\u001b[38;5;33mMaxPooling2D\u001b[0m)  │ (\u001b[38;5;45mNone\u001b[0m, \u001b[38;5;34m14\u001b[0m, \u001b[38;5;34m14\u001b[0m, \u001b[38;5;34m256\u001b[0m)    │             \u001b[38;5;34m0\u001b[0m │\n",
       "├─────────────────────────────────┼────────────────────────┼───────────────┤\n",
       "│ batch_normalization_7           │ (\u001b[38;5;45mNone\u001b[0m, \u001b[38;5;34m14\u001b[0m, \u001b[38;5;34m14\u001b[0m, \u001b[38;5;34m256\u001b[0m)    │         \u001b[38;5;34m1,024\u001b[0m │\n",
       "│ (\u001b[38;5;33mBatchNormalization\u001b[0m)            │                        │               │\n",
       "├─────────────────────────────────┼────────────────────────┼───────────────┤\n",
       "│ flatten_1 (\u001b[38;5;33mFlatten\u001b[0m)             │ (\u001b[38;5;45mNone\u001b[0m, \u001b[38;5;34m50176\u001b[0m)          │             \u001b[38;5;34m0\u001b[0m │\n",
       "├─────────────────────────────────┼────────────────────────┼───────────────┤\n",
       "│ dense_2 (\u001b[38;5;33mDense\u001b[0m)                 │ (\u001b[38;5;45mNone\u001b[0m, \u001b[38;5;34m512\u001b[0m)            │    \u001b[38;5;34m25,690,624\u001b[0m │\n",
       "├─────────────────────────────────┼────────────────────────┼───────────────┤\n",
       "│ dropout_1 (\u001b[38;5;33mDropout\u001b[0m)             │ (\u001b[38;5;45mNone\u001b[0m, \u001b[38;5;34m512\u001b[0m)            │             \u001b[38;5;34m0\u001b[0m │\n",
       "├─────────────────────────────────┼────────────────────────┼───────────────┤\n",
       "│ dense_3 (\u001b[38;5;33mDense\u001b[0m)                 │ (\u001b[38;5;45mNone\u001b[0m, \u001b[38;5;34m30\u001b[0m)             │        \u001b[38;5;34m15,390\u001b[0m │\n",
       "└─────────────────────────────────┴────────────────────────┴───────────────┘\n"
      ]
     },
     "metadata": {},
     "output_type": "display_data"
    },
    {
     "data": {
      "text/html": [
       "<pre style=\"white-space:pre;overflow-x:auto;line-height:normal;font-family:Menlo,'DejaVu Sans Mono',consolas,'Courier New',monospace\"><span style=\"font-weight: bold\"> Total params: </span><span style=\"color: #00af00; text-decoration-color: #00af00\">78,287,132</span> (298.64 MB)\n",
       "</pre>\n"
      ],
      "text/plain": [
       "\u001b[1m Total params: \u001b[0m\u001b[38;5;34m78,287,132\u001b[0m (298.64 MB)\n"
      ]
     },
     "metadata": {},
     "output_type": "display_data"
    },
    {
     "data": {
      "text/html": [
       "<pre style=\"white-space:pre;overflow-x:auto;line-height:normal;font-family:Menlo,'DejaVu Sans Mono',consolas,'Courier New',monospace\"><span style=\"font-weight: bold\"> Trainable params: </span><span style=\"color: #00af00; text-decoration-color: #00af00\">26,095,390</span> (99.55 MB)\n",
       "</pre>\n"
      ],
      "text/plain": [
       "\u001b[1m Trainable params: \u001b[0m\u001b[38;5;34m26,095,390\u001b[0m (99.55 MB)\n"
      ]
     },
     "metadata": {},
     "output_type": "display_data"
    },
    {
     "data": {
      "text/html": [
       "<pre style=\"white-space:pre;overflow-x:auto;line-height:normal;font-family:Menlo,'DejaVu Sans Mono',consolas,'Courier New',monospace\"><span style=\"font-weight: bold\"> Non-trainable params: </span><span style=\"color: #00af00; text-decoration-color: #00af00\">960</span> (3.75 KB)\n",
       "</pre>\n"
      ],
      "text/plain": [
       "\u001b[1m Non-trainable params: \u001b[0m\u001b[38;5;34m960\u001b[0m (3.75 KB)\n"
      ]
     },
     "metadata": {},
     "output_type": "display_data"
    },
    {
     "data": {
      "text/html": [
       "<pre style=\"white-space:pre;overflow-x:auto;line-height:normal;font-family:Menlo,'DejaVu Sans Mono',consolas,'Courier New',monospace\"><span style=\"font-weight: bold\"> Optimizer params: </span><span style=\"color: #00af00; text-decoration-color: #00af00\">52,190,782</span> (199.09 MB)\n",
       "</pre>\n"
      ],
      "text/plain": [
       "\u001b[1m Optimizer params: \u001b[0m\u001b[38;5;34m52,190,782\u001b[0m (199.09 MB)\n"
      ]
     },
     "metadata": {},
     "output_type": "display_data"
    }
   ],
   "source": [
    "model.summary()"
   ]
  },
  {
   "cell_type": "code",
   "execution_count": 12,
   "metadata": {},
   "outputs": [
    {
     "data": {
      "image/png": "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",
      "text/plain": [
       "<Figure size 640x480 with 1 Axes>"
      ]
     },
     "metadata": {},
     "output_type": "display_data"
    }
   ],
   "source": [
    "def plot_accuracy(x):\n",
    "    plt.plot(x.history['accuracy'])\n",
    "    plt.plot(x.history['val_accuracy'])\n",
    "    plt.xlabel('Epochs')\n",
    "    plt.ylabel('Accuracy')\n",
    "    plt.title('Train_accuracy & Val_accuracy')\n",
    "    plt.legend(['Train','Validation'])\n",
    "    plt.show()\n",
    "\n",
    "plot_accuracy(history)"
   ]
  },
  {
   "cell_type": "code",
   "execution_count": null,
   "metadata": {},
   "outputs": [
    {
     "name": "stderr",
     "output_type": "stream",
     "text": [
      "WARNING:absl:You are saving your model as an HDF5 file via `model.save()` or `keras.saving.save_model(model)`. This file format is considered legacy. We recommend using instead the native Keras format, e.g. `model.save('my_model.keras')` or `keras.saving.save_model(model, 'my_model.keras')`. \n"
     ]
    }
   ],
   "source": [
    "with open('model.pkl','wb') as file:\n",
    "    model = pickle.dunb(model,file)\n"
   ]
  },
  {
   "cell_type": "code",
   "execution_count": null,
   "metadata": {},
   "outputs": [],
   "source": []
  }
 ],
 "metadata": {
  "kernelspec": {
   "display_name": "Python 3",
   "language": "python",
   "name": "python3"
  },
  "language_info": {
   "codemirror_mode": {
    "name": "ipython",
    "version": 3
   },
   "file_extension": ".py",
   "mimetype": "text/x-python",
   "name": "python",
   "nbconvert_exporter": "python",
   "pygments_lexer": "ipython3",
   "version": "3.10.11"
  }
 },
 "nbformat": 4,
 "nbformat_minor": 2
}
=======
version https://git-lfs.github.com/spec/v1
oid sha256:f363682c20de22560bb2ea4ab4b08f6063ec24d93919a344cbe955769f883717
size 84653
>>>>>>> origin/master
